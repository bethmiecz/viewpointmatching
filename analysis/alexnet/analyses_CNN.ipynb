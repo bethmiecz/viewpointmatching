{
 "cells": [
  {
   "cell_type": "code",
   "execution_count": 175,
   "id": "e233287c",
   "metadata": {},
   "outputs": [],
   "source": [
    "import json\n",
    "import csv\n",
    "import math\n",
    "import numpy as np\n",
    "import collections\n",
    "import plotly.graph_objects as px\n",
    "import plotly.express as plot\n",
    "import pandas as pd\n",
    "import matplotlib.pyplot as plt\n",
    "import scipy.stats as stats\n",
    "from scipy import spatial\n",
    "import matplotlib\n",
    "import scipy"
   ]
  },
  {
   "cell_type": "code",
   "execution_count": 176,
   "id": "be12b8e1",
   "metadata": {},
   "outputs": [],
   "source": [
    "def cos_sim(x, y):\n",
    "    return 1 - scipy.spatial.distance.cosine(x,y)"
   ]
  },
  {
   "cell_type": "code",
   "execution_count": 68,
   "id": "84f1c788",
   "metadata": {},
   "outputs": [],
   "source": [
    "modelfile = open('modelresponsesNEW.json')\n",
    "modeldata = json.load(modelfile)\n",
    "modelfile.close()\n",
    "\n",
    "behexptf = open('3dp3behavior.json')\n",
    "behexpt = json.load(behexptf)\n",
    "behexptf.close()\n",
    "\n",
    "alexnetfile = open('alexnet.json')\n",
    "alexnet = json.load(alexnetfile)\n",
    "alexnetfile.close()\n",
    "\n",
    "alexnetfile2 = open('alexnet_fc.json')\n",
    "alexnet2 = json.load(alexnetfile2)\n",
    "alexnetfile2.close()"
   ]
  },
  {
   "cell_type": "code",
   "execution_count": 69,
   "id": "ff6f4387",
   "metadata": {},
   "outputs": [],
   "source": [
    "alexnet = alexnet[0]\n",
    "alexnet_fc = alexnet2[0]"
   ]
  },
  {
   "cell_type": "code",
   "execution_count": 70,
   "id": "0c7a6278",
   "metadata": {},
   "outputs": [],
   "source": [
    "def countModelAcc(modeldata):\n",
    "    total_correct = 0\n",
    "    allmodelvals = np.zeros((120))\n",
    "    count = 1\n",
    "    i = 0\n",
    "    for id,acc in modeldata[0].items():\n",
    "        total_correct += acc\n",
    "        allmodelvals[int(id)-1] = acc\n",
    "        \n",
    "    return total_correct, allmodelvals"
   ]
  },
  {
   "cell_type": "code",
   "execution_count": 71,
   "id": "b754fba1",
   "metadata": {},
   "outputs": [],
   "source": [
    "total_correct, allmodelresp = countModelAcc(modeldata)"
   ]
  },
  {
   "cell_type": "code",
   "execution_count": 72,
   "id": "f2c47b4f",
   "metadata": {},
   "outputs": [
    {
     "name": "stdout",
     "output_type": "stream",
     "text": [
      "[1. 1. 1. 1. 1. 1. 1. 1. 1. 1. 1. 1. 1. 1. 1. 1. 1. 1. 1. 1. 1. 1. 1. 1.\n",
      " 1. 1. 1. 1. 1. 1. 1. 1. 1. 1. 1. 1. 1. 1. 1. 1. 1. 1. 1. 1. 1. 1. 1. 1.\n",
      " 1. 1. 1. 1. 1. 1. 1. 1. 1. 1. 1. 1. 1. 1. 1. 1. 1. 1. 1. 1. 1. 1. 1. 1.\n",
      " 1. 1. 1. 1. 1. 1. 1. 1. 1. 1. 1. 1. 1. 1. 1. 1. 1. 1. 1. 1. 1. 1. 1. 1.\n",
      " 1. 1. 1. 1. 1. 1. 1. 1. 1. 1. 1. 1. 1. 1. 1. 1. 1. 1. 1. 1. 1. 1. 1. 1.]\n",
      "120\n"
     ]
    }
   ],
   "source": [
    "print(allmodelresp)\n",
    "print(total_correct)"
   ]
  },
  {
   "cell_type": "code",
   "execution_count": 73,
   "id": "52f2d024",
   "metadata": {},
   "outputs": [],
   "source": [
    "def getSubjectData(filename):\n",
    "    with open(filename) as csvf:\n",
    "        reader = csv.reader(csvf)\n",
    "        subjects = {}\n",
    "        i = 0\n",
    "        for row in reader:\n",
    "            if i == 0:\n",
    "                names = [k for k in row]\n",
    "                print(names)\n",
    "            if i != 0:\n",
    "                user_id = row[len(row)-1]\n",
    "                if user_id != 'test':\n",
    "                    if not user_id in subjects.keys():\n",
    "                        subjects[user_id] = []\n",
    "                    resp = {}\n",
    "                    for j,val in enumerate(names):\n",
    "                        resp[val] = row[j]\n",
    "                    subjects[user_id].append(resp)\n",
    "            i += 1\n",
    "        return subjects\n",
    "        csvf.close()"
   ]
  },
  {
   "cell_type": "code",
   "execution_count": 74,
   "id": "521f496b",
   "metadata": {},
   "outputs": [],
   "source": [
    "def matchSampleToID(samplename, expt):\n",
    "    for trial in expt:\n",
    "        if samplename != '':\n",
    "            if trial['img_sample'] == ('./scenes' + samplename.split('.com')[1]):\n",
    "                return trial['trialid'],trial['lure_type']"
   ]
  },
  {
   "cell_type": "code",
   "execution_count": 75,
   "id": "5ffc7fa1",
   "metadata": {},
   "outputs": [],
   "source": [
    "def preproccessSubjectData(filename):\n",
    "    subjects = getSubjectData(filename)\n",
    "    allsubjdata = []\n",
    "    for subj, trials in subjects.items():\n",
    "        subjdata = {}\n",
    "        for trial in trials:\n",
    "            if trial['img_sample'] != '':\n",
    "                trialid,lure_type = matchSampleToID(trial['img_sample'], behexpt)\n",
    "                trialdict = {}\n",
    "                trialdict['correct'] = trial['correct']\n",
    "                trialdict['img_target'] = trial['img_target']\n",
    "                trialdict['img_lure'] = trial['img_target']\n",
    "                trialdict['img_sample'] = trial['img_sample']\n",
    "                trialdict['lure_type'] = lure_type\n",
    "                subjdata[trialid] = trialdict\n",
    "        allsubjdata.append(subjdata)\n",
    "    return allsubjdata"
   ]
  },
  {
   "cell_type": "code",
   "execution_count": 76,
   "id": "f053c587",
   "metadata": {},
   "outputs": [
    {
     "name": "stdout",
     "output_type": "stream",
     "text": [
      "['', '_id', 'choices', 'correct', 'correct_choice', 'expName', 'gameid', 'img_lure', 'img_sample', 'img_target', 'index', 'inputid', 'internal_node_id', 'iterationName', 'projName', 'response', 'rt', 'sessionID', 'stimulus', 'studyID', 'time_elapsed', 'trial_index', 'trial_type', 'userID']\n",
      "['', '_id', 'choices', 'correct', 'correct_choice', 'expName', 'gameid', 'img_lure', 'img_sample', 'img_target', 'index', 'inputid', 'internal_node_id', 'iterationName', 'projName', 'response', 'rt', 'sessionID', 'stimulus', 'studyID', 'time_elapsed', 'trial_index', 'trial_type', 'userID']\n"
     ]
    }
   ],
   "source": [
    "allsubjdata = preproccessSubjectData('sceneGraph_classProject_data.csv')\n",
    "allsubjdata2 = preproccessSubjectData('sceneGraph_classProject_exp2_data.csv')\n",
    "\n",
    "evensubj = allsubjdata[::2]\n",
    "oddsubj = allsubjdata[1::2]"
   ]
  },
  {
   "cell_type": "code",
   "execution_count": 77,
   "id": "4f201b2b",
   "metadata": {},
   "outputs": [],
   "source": [
    "def getCorrect(subjs):\n",
    "    correct = np.zeros((120))\n",
    "    for subj in subjs:\n",
    "        for trial,vals in subj.items():\n",
    "            if vals['correct'] == \"True\": correct[int(trial)-1] += 1\n",
    "    return np.divide(correct,len(subjs))\n",
    "\n",
    "def getCorrectFromInds(inds):\n",
    "    correct = np.zeros((120))\n",
    "    for ind in inds:\n",
    "        for trial,vals in subj.items():\n",
    "            if vals['correct'] == \"True\": correct[int(trial)-1] += 1\n",
    "    return np.divide(correct,len(subjs))"
   ]
  },
  {
   "cell_type": "code",
   "execution_count": 78,
   "id": "53b75485",
   "metadata": {},
   "outputs": [
    {
     "name": "stdout",
     "output_type": "stream",
     "text": [
      "(120,)\n"
     ]
    }
   ],
   "source": [
    "print(getCorrect(evensubj).shape)"
   ]
  },
  {
   "cell_type": "code",
   "execution_count": 79,
   "id": "b8d54a44",
   "metadata": {},
   "outputs": [],
   "source": [
    "# Put all this in a loop\n",
    "# np.arange(0,31) -- make a list of indices\n",
    "# np.rand -- randomize list of indices\n",
    "# batch 1 = first half\n",
    "# batch 2 = second half \n",
    "# iterate thru + avg final vector \n",
    "\n",
    "# all_corrs = np.zeros((1000))\n",
    "# for i in range(10):\n",
    "#     ind = np.arange(0,31)\n",
    "#     np.random.shuffle(ind)\n",
    "#     evensubj = ind[::2]\n",
    "#     oddsubj = ind[1::2]\n",
    "#     all_corrs[i] = np.corrcoef(getCorrect(evensubj),getCorrect(oddsubj))[0][1]\n",
    "\n",
    "# avg_corr = np.mean(all_corrs)\n",
    "# even_acc = getCorrect(evensubj)\n",
    "# odd_acc = getCorrect(oddsubj)\n",
    "\n",
    "# splithalf = np.corrcoef(even_acc,odd_acc)[0][1]\n",
    "# print(splithalf)"
   ]
  },
  {
   "cell_type": "code",
   "execution_count": 80,
   "id": "ee62ad0d",
   "metadata": {},
   "outputs": [],
   "source": [
    "def getCorrectByLureCond(subjs):\n",
    "    allLureTypes = np.zeros((len(subjs),120))\n",
    "    for i,subj in enumerate(subjs):\n",
    "        count = 0\n",
    "        for trial,vals in subj.items():\n",
    "            if count == 30:\n",
    "                count = 0\n",
    "            if vals['correct'] == 'True':\n",
    "                allLureTypes[i,int(trial)-1] = 1\n",
    "            count += 1\n",
    "    return allLureTypes"
   ]
  },
  {
   "cell_type": "code",
   "execution_count": 81,
   "id": "1393e2eb",
   "metadata": {},
   "outputs": [
    {
     "name": "stdout",
     "output_type": "stream",
     "text": [
      "120\n",
      "[0.77849462 0.90215054 0.99139785 0.99677419]\n",
      "0.9172043010752687\n"
     ]
    }
   ],
   "source": [
    "all_lure_conds = getCorrectByLureCond(allsubjdata)\n",
    "subjavg = np.mean(all_lure_conds,axis=0)\n",
    "print(len(subjavg))\n",
    "subj_bylure = np.reshape(subjavg,(4,30))\n",
    "subjavg_bylure = np.mean(subj_bylure,axis=1)\n",
    "print(subjavg_bylure)\n",
    "\n",
    "sub_all_acc = subjavg_bylure.mean()\n",
    "print(sub_all_acc)\n",
    "# all_lure_conds2 = getCorrectByLureCond(allsubjdata2)\n",
    "# subjavg2 = np.mean(all_lure_conds2,axis=0)\n",
    "# print(len(subjavg2))\n",
    "# subj_bylure2 = np.reshape(subjavg2,(4,30))\n",
    "# subjavg_bylure2 = np.mean(subj_bylure2,axis=1)\n",
    "# print(subjavg_bylure2)"
   ]
  },
  {
   "cell_type": "code",
   "execution_count": 198,
   "id": "2c58191b",
   "metadata": {},
   "outputs": [],
   "source": [
    "all_evens = even_lures.reshape(even_lures.shape[0], even_lures.shape[1]*even_lures.shape[2]).mean(axis = 0)\n",
    "all_odds = odd_lures.reshape(odd_lures.shape[0], odd_lures.shape[1]*odd_lures.shape[2]).mean(axis = 0)\n",
    "# all_odds.shape\n",
    "reliability = cos_sim(all_evens, all_odds)"
   ]
  },
  {
   "cell_type": "code",
   "execution_count": 189,
   "id": "6e2076c0",
   "metadata": {},
   "outputs": [
    {
     "name": "stdout",
     "output_type": "stream",
     "text": [
      "(4, 30)\n",
      "[0.9844514391160548, 0.9963112536960939, 0.9995772685085715, 0.9997880198650578]\n"
     ]
    }
   ],
   "source": [
    "all_lure_conds = getCorrectByLureCond(allsubjdata)\n",
    "even_lures = np.reshape(all_lure_conds[:16],(16,4,30))\n",
    "odd_lures = np.reshape(all_lure_conds[16:(len(all_lure_conds))],(15,4,30))\n",
    "\n",
    "even_avgs = np.mean(even_lures,axis=0)\n",
    "odd_avgs = np.mean(odd_lures,axis=0)\n",
    "print(even_avgs.shape)\n",
    "\n",
    "splithalf_lures = []\n",
    "for i,lure_cond in enumerate(even_avgs):\n",
    "    splithalf_lures.append(cos_sim(lure_cond,odd_avgs[i]))\n",
    "print(splithalf_lures)"
   ]
  },
  {
   "cell_type": "code",
   "execution_count": 83,
   "id": "b5de9cb9",
   "metadata": {},
   "outputs": [
    {
     "name": "stdout",
     "output_type": "stream",
     "text": [
      "   0         1\n",
      "0  1  0.778495\n",
      "1  2  0.902151\n",
      "2  3  0.991398\n",
      "3  4  0.996774\n"
     ]
    },
    {
     "data": {
      "text/plain": [
       "Text(0, 0.5, 'Subject Accuracy')"
      ]
     },
     "execution_count": 83,
     "metadata": {},
     "output_type": "execute_result"
    },
    {
     "data": {
      "image/png": "[encoded data removed]",
      "text/plain": [
       "<Figure size 432x288 with 1 Axes>"
      ]
     },
     "metadata": {
      "needs_background": "light"
     },
     "output_type": "display_data"
    }
   ],
   "source": [
    "all_lure_conds = getCorrectByLureCond(allsubjdata)\n",
    "lurecond_avgs = zip([\"1\",\"2\",\"3\",\"4\"],subjavg_bylure)\n",
    "df = pd.DataFrame(lurecond_avgs)\n",
    "print(df)\n",
    "# fig = plot.bar(df,x=0,y=1,labels={'0': 'Lure Condition','1': \"Subject Accuracy\"})\n",
    "# fig.show()\n",
    "fig = df.plot(kind='bar',legend=False)\n",
    "fig.set_xlabel(\"Lure Condition\", fontsize=12)\n",
    "fig.set_ylabel(\"Subject Accuracy\", fontsize=12)"
   ]
  },
  {
   "cell_type": "code",
   "execution_count": 84,
   "id": "5ee67540",
   "metadata": {},
   "outputs": [
    {
     "data": {
      "text/plain": [
       "<matplotlib.legend.Legend at 0x289adb97310>"
      ]
     },
     "execution_count": 84,
     "metadata": {},
     "output_type": "execute_result"
    },
    {
     "data": {
      "image/png": "[encoded data removed]",
      "text/plain": [
       "<Figure size 432x288 with 1 Axes>"
      ]
     },
     "metadata": {
      "needs_background": "light"
     },
     "output_type": "display_data"
    }
   ],
   "source": [
    "modelresp_bylure = np.reshape(allmodelresp,(4,30))\n",
    "modellureconds = np.mean(modelresp_bylure,axis=1)\n",
    "fig, ax = plt.subplots()\n",
    "labels = ['1', '2', '3', '4']\n",
    "width = 0.35\n",
    "x = np.arange(len(labels))\n",
    "rects1 = ax.bar(x - width/2, modellureconds, width, label='Model')\n",
    "rects2 = ax.bar(x + width/2, subjavg_bylure, width, label='Subjects')\n",
    "ax.set_ylabel('Accuracy')\n",
    "ax.set_xlabel('Lure Condition')\n",
    "ax.legend()"
   ]
  },
  {
   "cell_type": "code",
   "execution_count": 85,
   "id": "be1bfe6a",
   "metadata": {},
   "outputs": [],
   "source": [
    "model_all_acc = modellureconds.mean()"
   ]
  },
  {
   "cell_type": "code",
   "execution_count": 86,
   "id": "b9864bff",
   "metadata": {},
   "outputs": [
    {
     "data": {
      "text/plain": [
       "<matplotlib.legend.Legend at 0x289b6c569d0>"
      ]
     },
     "execution_count": 86,
     "metadata": {},
     "output_type": "execute_result"
    },
    {
     "data": {
      "image/png": "[encoded data removed]",
      "text/plain": [
       "<Figure size 432x288 with 1 Axes>"
      ]
     },
     "metadata": {
      "needs_background": "light"
     },
     "output_type": "display_data"
    }
   ],
   "source": [
    "fig, ax = plt.subplots()\n",
    "labels = [str(x) for x in range(120)]\n",
    "x = np.arange(len(labels))\n",
    "width = 0.35\n",
    "rects1 = ax.bar(x - width/2, allmodelresp, width, label='Model')\n",
    "rects2 = ax.bar(x + width/2, subjavg, width, label='Subjects')\n",
    "ax.set_ylabel('Accuracy')\n",
    "ax.set_xlabel('Trial Num')\n",
    "ax.legend()"
   ]
  },
  {
   "cell_type": "code",
   "execution_count": 87,
   "id": "93e18332",
   "metadata": {},
   "outputs": [],
   "source": [
    "for i,x in enumerate(allmodelresp):\n",
    "    if x == 0:\n",
    "        print(\"Trial num \" + str(i))\n",
    "        print(\"Subject Avg \" + str(subjavg[i]))\n",
    "        print(\"\\n\")"
   ]
  },
  {
   "cell_type": "code",
   "execution_count": 88,
   "id": "28a41e23",
   "metadata": {},
   "outputs": [],
   "source": [
    "def matchImgToTrial(imgname, expt):\n",
    "    alexnetactivs = {}\n",
    "    for i in range(120):\n",
    "        alexnetactivs[str(i)] = [[],[],[]]\n",
    "    for trial in expt:\n",
    "        print(trial)\n",
    "        if imgname != '':\n",
    "            if trial['img_sample'] == imgname:\n",
    "                alexnetactivs[trial['trialid']][0].append()"
   ]
  },
  {
   "cell_type": "code",
   "execution_count": 89,
   "id": "35fd32fe",
   "metadata": {},
   "outputs": [],
   "source": [
    "def getCNNActivs(alexnet):\n",
    "    alexnetactivs = {}\n",
    "    alexnetlures = {}\n",
    "    for i in range(120):\n",
    "        alexnetactivs[str(i+1)] = [[],[],[]]\n",
    "    for i in range(4):\n",
    "        alexnetlures[str(i+1)] = [[],[],[]]\n",
    "\n",
    "    for k,v in alexnet.items():\n",
    "        for trial in behexpt:\n",
    "            if k != '':\n",
    "                if trial['img_sample'].split('/')[2:5] == k.split('/')[6:9]:\n",
    "                    alexnetactivs[trial['trialid']][0].append(v)\n",
    "                    alexnetlures[trial['lure_type']].append(v)\n",
    "                elif trial['img_target'].split('/')[2:5] == k.split('/')[6:9]:\n",
    "                    alexnetactivs[trial['trialid']][1].append(v)\n",
    "                    alexnetlures[trial['lure_type']].append(v)\n",
    "                elif trial['img_lure'].split('/')[2:5] == k.split('/')[6:9]:\n",
    "                    alexnetactivs[trial['trialid']][2].append(v)\n",
    "                    alexnetlures[trial['lure_type']].append(v)\n",
    "    \n",
    "    return alexnetactivs,alexnetlures"
   ]
  },
  {
   "cell_type": "code",
   "execution_count": 90,
   "id": "ce0de9c4",
   "metadata": {},
   "outputs": [],
   "source": [
    "alexnetactivs,alexnetlures = getCNNActivs(alexnet)\n",
    "alexnetactivs_fc,alexnetlures_fc = getCNNActivs(alexnet_fc)"
   ]
  },
  {
   "cell_type": "code",
   "execution_count": 91,
   "id": "36fa8b62",
   "metadata": {},
   "outputs": [],
   "source": [
    "def getCNNAcc(alexnetactivs):\n",
    "    correcttrials_cnn = {}\n",
    "    cnnmat = np.zeros((120))\n",
    "    for trialnum, imgs in alexnetactivs.items():\n",
    "        sample = np.array(imgs[0]).squeeze()\n",
    "        target = np.array(imgs[1]).squeeze()\n",
    "        lure = np.array(imgs[2]).squeeze()\n",
    "\n",
    "        correct = np.corrcoef(sample,target)[0,1]\n",
    "        incorrect = np.corrcoef(sample,lure)[0,1]\n",
    "\n",
    "        if correct > incorrect:\n",
    "            correcttrials_cnn[trialnum] = 1\n",
    "            cnnmat[int(trialnum)-1] = 1\n",
    "        else:\n",
    "            correcttrials_cnn[trialnum] = 0\n",
    "            cnnmat[int(trialnum)-1] = 0\n",
    "    return correcttrials_cnn,cnnmat\n",
    "\n",
    "correcttrials_cnn,cnnmat = getCNNAcc(alexnetactivs)\n",
    "correcttrials_cnnfc,cnnmat_fc = getCNNAcc(alexnetactivs_fc)\n",
    "# for trial in behexpt:\n",
    "#     print(trial['trialid'] + \": \" + trial['lure_type']) "
   ]
  },
  {
   "cell_type": "code",
   "execution_count": 92,
   "id": "a904a8fe",
   "metadata": {},
   "outputs": [
    {
     "data": {
      "text/plain": [
       "Text(0, 0.5, 'AlexNet Accuracy')"
      ]
     },
     "execution_count": 92,
     "metadata": {},
     "output_type": "execute_result"
    },
    {
     "data": {
      "image/png": "[encoded data removed]",
      "text/plain": [
       "<Figure size 432x288 with 1 Axes>"
      ]
     },
     "metadata": {
      "needs_background": "light"
     },
     "output_type": "display_data"
    }
   ],
   "source": [
    "corrs = np.array(list(correcttrials_cnn.values()))\n",
    "alexnetavg = np.mean(corrs)\n",
    "cnnlures = np.mean(np.reshape(cnnmat, (4,30)),axis=1)\n",
    "\n",
    "cnnlures_z = zip([\"1\",\"2\",\"3\",\"4\"],cnnlures)\n",
    "df = pd.DataFrame(cnnlures_z)\n",
    "fig = df.plot(kind='bar',legend=False)\n",
    "fig.set_xlabel(\"Lure Condition\", fontsize=12)\n",
    "fig.set_ylabel(\"AlexNet Accuracy\", fontsize=12)"
   ]
  },
  {
   "cell_type": "code",
   "execution_count": 138,
   "id": "8929c622",
   "metadata": {},
   "outputs": [
    {
     "ename": "NameError",
     "evalue": "name 'cnnluresfc' is not defined",
     "output_type": "error",
     "traceback": [
      "\u001b[1;31m---------------------------------------------------------------------------\u001b[0m",
      "\u001b[1;31mNameError\u001b[0m                                 Traceback (most recent call last)",
      "Input \u001b[1;32mIn [138]\u001b[0m, in \u001b[0;36m<cell line: 5>\u001b[1;34m()\u001b[0m\n\u001b[0;32m      2\u001b[0m alexnetavgfc \u001b[38;5;241m=\u001b[39m np\u001b[38;5;241m.\u001b[39mmean(corrs_fc)\n\u001b[0;32m      3\u001b[0m alexnet_fclures \u001b[38;5;241m=\u001b[39m np\u001b[38;5;241m.\u001b[39mmean(np\u001b[38;5;241m.\u001b[39mreshape(cnnmat_fc, (\u001b[38;5;241m4\u001b[39m,\u001b[38;5;241m30\u001b[39m)),axis\u001b[38;5;241m=\u001b[39m\u001b[38;5;241m1\u001b[39m)\n\u001b[1;32m----> 5\u001b[0m cnnlures_z \u001b[38;5;241m=\u001b[39m \u001b[38;5;28mzip\u001b[39m([\u001b[38;5;124m\"\u001b[39m\u001b[38;5;124m1\u001b[39m\u001b[38;5;124m\"\u001b[39m,\u001b[38;5;124m\"\u001b[39m\u001b[38;5;124m2\u001b[39m\u001b[38;5;124m\"\u001b[39m,\u001b[38;5;124m\"\u001b[39m\u001b[38;5;124m3\u001b[39m\u001b[38;5;124m\"\u001b[39m,\u001b[38;5;124m\"\u001b[39m\u001b[38;5;124m4\u001b[39m\u001b[38;5;124m\"\u001b[39m],\u001b[43mcnnluresfc\u001b[49m)\n\u001b[0;32m      6\u001b[0m df \u001b[38;5;241m=\u001b[39m pd\u001b[38;5;241m.\u001b[39mDataFrame(cnnlures_z)\n\u001b[0;32m      7\u001b[0m fig \u001b[38;5;241m=\u001b[39m df\u001b[38;5;241m.\u001b[39mplot(kind\u001b[38;5;241m=\u001b[39m\u001b[38;5;124m'\u001b[39m\u001b[38;5;124mbar\u001b[39m\u001b[38;5;124m'\u001b[39m,legend\u001b[38;5;241m=\u001b[39m\u001b[38;5;28;01mFalse\u001b[39;00m)\n",
      "\u001b[1;31mNameError\u001b[0m: name 'cnnluresfc' is not defined"
     ]
    }
   ],
   "source": [
    "corrs_fc = np.array(list(correcttrials_cnnfc.values()))\n",
    "alexnetavgfc = np.mean(corrs_fc)\n",
    "alexnet_fclures = np.mean(np.reshape(cnnmat_fc, (4,30)),axis=1)\n",
    "\n",
    "cnnlures_z = zip([\"1\",\"2\",\"3\",\"4\"],cnnluresfc)\n",
    "df = pd.DataFrame(cnnlures_z)\n",
    "fig = df.plot(kind='bar',legend=False)\n",
    "fig.set_xlabel(\"Lure Condition (from easy to difficult)\", fontsize=12)\n",
    "fig.set_ylabel(\"AlexNet Accuracy\", fontsize=12)\n",
    "fig.set_title(\"AlexNet Accuracy\")"
   ]
  },
  {
   "cell_type": "code",
   "execution_count": 94,
   "id": "a8a8a97e",
   "metadata": {},
   "outputs": [
    {
     "name": "stdout",
     "output_type": "stream",
     "text": [
      "0.6166666666666667\n",
      "0.7083333333333334\n",
      "[0.53333333 0.53333333 0.86666667 0.9       ]\n"
     ]
    }
   ],
   "source": [
    "# AlexNet CNN avg \n",
    "print(alexnetavg)\n",
    "print(alexnetavgfc)\n",
    "print(alexnet_fclures)"
   ]
  },
  {
   "cell_type": "code",
   "execution_count": 154,
   "id": "54654192",
   "metadata": {},
   "outputs": [
    {
     "data": {
      "text/plain": [
       "(0.48, 1.05)"
      ]
     },
     "execution_count": 154,
     "metadata": {},
     "output_type": "execute_result"
    },
    {
     "data": {
      "image/png": "[encoded data removed]",
      "text/plain": [
       "<Figure size 1080x576 with 1 Axes>"
      ]
     },
     "metadata": {
      "needs_background": "light"
     },
     "output_type": "display_data"
    }
   ],
   "source": [
    "matplotlib.rc(\"xtick\", labelsize=20)\n",
    "matplotlib.rc(\"ytick\", labelsize=20)\n",
    "fig, ax = plt.subplots(figsize = (15, 8))\n",
    "ax.bar(['AlexNet FC', '3DP3'], [alexnetavgfc, model_all_acc])\n",
    "ax.axhline(y = sub_all_acc, color = [1, 0, 1], linestyle = '--')\n",
    "ax.axhline(y = 0.5, color = 'black', linestyle = '--')\n",
    "ax.legend(['human accuracy', 'chance level'])\n",
    "ax.set_ylabel('Accuracy', fontsize = 20)\n",
    "ax.set_ylim([0.48, 1.05])"
   ]
  },
  {
   "cell_type": "code",
   "execution_count": 166,
   "id": "dc0a843d",
   "metadata": {},
   "outputs": [
    {
     "data": {
      "text/plain": [
       "<matplotlib.legend.Legend at 0x289c1ad5d90>"
      ]
     },
     "execution_count": 166,
     "metadata": {},
     "output_type": "execute_result"
    },
    {
     "data": {
      "image/png": "[encoded data removed]",
      "text/plain": [
       "<Figure size 1080x576 with 1 Axes>"
      ]
     },
     "metadata": {
      "needs_background": "light"
     },
     "output_type": "display_data"
    }
   ],
   "source": [
    "modelresp_bylure = np.reshape(allmodelresp,(4,30))\n",
    "matplotlib.rcParams.update({'font.size': 12})\n",
    "\n",
    "all_human = all_lure_conds.reshape(all_lure_conds.shape[0], 4, 30)\n",
    "human_std = all_human.mean(axis = 2).std(axis = 0) / np.sqrt(all_human.shape[0])\n",
    "\n",
    "\n",
    "fig, ax = plt.subplots(figsize = (15, 8))\n",
    "matplotlib.rc(\"xtick\", labelsize=20)\n",
    "matplotlib.rc(\"ytick\", labelsize=20)\n",
    "labels = ['1', '2', '3', '4']\n",
    "width = 0.2\n",
    "x = np.arange(len(labels))\n",
    "rects1 = ax.bar(x - width, subjavg_bylure, width, label='Human', yerr = human_std)\n",
    "rects2 = ax.bar(x, modellureconds, width, label='3DP3')\n",
    "rects3 = ax.bar(x + width, alexnet_fclures, width, label='AlexNet')\n",
    "ax.set_ylabel('Accuracy', fontsize = 20)\n",
    "ax.set_xlabel('Lure Condition', fontsize = 20)\n",
    "ax.set_xticks(x, labels)\n",
    "ax.legend()"
   ]
  },
  {
   "cell_type": "code",
   "execution_count": 185,
   "id": "996268c1",
   "metadata": {},
   "outputs": [],
   "source": [
    "# modelresp_bylure\n",
    "sub_averaged = all_human.mean(axis = 0)\n",
    "cnn_resp = np.reshape(cnnmat_fc, (4,30))\n",
    "model_flatten = modelresp_bylure.flatten()\n",
    "sub_flatten = sub_averaged.flatten()\n",
    "cnn_flatten = cnn_resp.flatten()\n",
    "human_cnn = cos_sim(sub_flatten, cnn_flatten)\n",
    "human_model = cos_sim(sub_flatten, model_flatten)\n",
    "model_cnn = cos_sim(cnn_flatten, model_flatten)"
   ]
  },
  {
   "cell_type": "code",
   "execution_count": 200,
   "id": "9b5715ba",
   "metadata": {},
   "outputs": [
    {
     "data": {
      "text/plain": [
       "(0.48, 1.05)"
      ]
     },
     "execution_count": 200,
     "metadata": {},
     "output_type": "execute_result"
    },
    {
     "data": {
      "image/png": "[encoded data removed]",
      "text/plain": [
       "<Figure size 1080x576 with 1 Axes>"
      ]
     },
     "metadata": {
      "needs_background": "light"
     },
     "output_type": "display_data"
    }
   ],
   "source": [
    "matplotlib.rc(\"xtick\", labelsize=20)\n",
    "matplotlib.rc(\"ytick\", labelsize=20)\n",
    "fig, ax = plt.subplots(figsize = (15, 8))\n",
    "ax.bar(['AlexNet-Human', '3DP3-Human'], [human_cnn, human_model])\n",
    "ax.axhline(y = reliability, color = 'black', linestyle = '--')\n",
    "ax.legend(['human reliability'])\n",
    "ax.set_ylabel('Cosine Similarity', fontsize = 20)\n",
    "ax.set_ylim([0.48, 1.05])"
   ]
  },
  {
   "cell_type": "code",
   "execution_count": 205,
   "id": "cfeafa1b",
   "metadata": {},
   "outputs": [
    {
     "name": "stdout",
     "output_type": "stream",
     "text": [
      "0.9950168264702159\n"
     ]
    }
   ],
   "source": [
    "print(reliability)"
   ]
  },
  {
   "cell_type": "code",
   "execution_count": 204,
   "id": "644cef36",
   "metadata": {},
   "outputs": [
    {
     "data": {
      "text/plain": [
       "<matplotlib.legend.Legend at 0x289c30a5c10>"
      ]
     },
     "execution_count": 204,
     "metadata": {},
     "output_type": "execute_result"
    },
    {
     "data": {
      "image/png": "[encoded data removed]",
      "text/plain": [
       "<Figure size 1080x576 with 1 Axes>"
      ]
     },
     "metadata": {
      "needs_background": "light"
     },
     "output_type": "display_data"
    }
   ],
   "source": [
    "human_cnn_lure = []\n",
    "human_model_lure = []\n",
    "model_cnn_lure = []\n",
    "for model, cnn, sub in zip(modelresp_bylure, cnn_resp, sub_averaged):\n",
    "    human_cnn_lure.append(cos_sim(sub, cnn))\n",
    "    human_model_lure.append(cos_sim(sub, model))\n",
    "    model_cnn_lure.append(cos_sim(cnn, model))\n",
    "    \n",
    "fig, ax = plt.subplots(figsize = (15, 8))\n",
    "matplotlib.rc(\"xtick\", labelsize=20)\n",
    "matplotlib.rc(\"ytick\", labelsize=20)\n",
    "labels = ['1', '2', '3', '4']\n",
    "width = 0.2\n",
    "x = np.arange(len(labels))\n",
    "rects1 = ax.bar(x - width/2 , human_cnn_lure, width, label='Human-AlexNet')\n",
    "rects2 = ax.bar(x+width/2, human_model_lure, width, label='Human-3DP3')\n",
    "# rects3 = ax.bar(x + width, model_cnn_lure, width, label='AlexNet')\n",
    "ax.set_ylabel('Cosine Similarity', fontsize = 20)\n",
    "ax.set_xlabel('Lure Condition', fontsize = 20)\n",
    "ax.set_xticks(x, labels)\n",
    "ax.legend()"
   ]
  },
  {
   "cell_type": "code",
   "execution_count": 93,
   "id": "e95f8dc7",
   "metadata": {},
   "outputs": [
    {
     "data": {
      "text/plain": [
       "<matplotlib.legend.Legend at 0x2b700de54690>"
      ]
     },
     "execution_count": 93,
     "metadata": {},
     "output_type": "execute_result"
    },
    {
     "data": {
      "image/png": "[encoded data removed]",
      "text/plain": [
       "<Figure size 432x288 with 1 Axes>"
      ]
     },
     "metadata": {
      "needs_background": "light"
     },
     "output_type": "display_data"
    }
   ],
   "source": [
    "fig, ax = plt.subplots()\n",
    "labels = ['1', '2', '3', '4']\n",
    "width = 0.35\n",
    "x = np.arange(len(labels))\n",
    "rects1 = ax.bar(x - width/2, alexnet_fclures, width, label='Model')\n",
    "rects2 = ax.bar(x + width/2, subjavg_bylure, width, label='Subjects')\n",
    "ax.set_ylabel('Accuracy')\n",
    "ax.set_xlabel('Lure Condition')\n",
    "ax.set_title('AlexNet vs Human Subject Performance')\n",
    "ax.legend()"
   ]
  },
  {
   "cell_type": "code",
   "execution_count": 72,
   "id": "10dbbbff",
   "metadata": {},
   "outputs": [
    {
     "name": "stdout",
     "output_type": "stream",
     "text": [
      "Avg Subj Accuracy: 0.917204301075269\n",
      "AlexNet Penultimate Layer Accuracy: 0.6166666666666667\n",
      "3DP3 Accuracy: 1.0\n"
     ]
    }
   ],
   "source": [
    "avg = subjavg.squeeze()\n",
    "totalsubjavg = 0\n",
    "\n",
    "for i,a in enumerate(avg):\n",
    "#     print(str(i) + \": \" + str(a))\n",
    "    totalsubjavg += a \n",
    "\n",
    "totalsubjavg /= 120\n",
    "print(\"Avg Subj Accuracy: \" + str(totalsubjavg))\n",
    "print(\"AlexNet Penultimate Layer Accuracy: \" + str(alexnetavg))\n",
    "print(\"3DP3 Accuracy: \" + str(total_correct / 120))"
   ]
  },
  {
   "cell_type": "code",
   "execution_count": 162,
   "id": "c0bddea1",
   "metadata": {},
   "outputs": [
    {
     "name": "stdout",
     "output_type": "stream",
     "text": [
      "(31, 4, 30)\n"
     ]
    }
   ],
   "source": [
    "print(all_lure_conds.reshape(all_lure_conds.shape[0], 4, 30).shape)"
   ]
  }
 ],
 "metadata": {
  "kernelspec": {
   "display_name": "Python 3 (ipykernel)",
   "language": "python",
   "name": "python3"
  },
  "language_info": {
   "codemirror_mode": {
    "name": "ipython",
    "version": 3
   },
   "file_extension": ".py",
   "mimetype": "text/x-python",
   "name": "python",
   "nbconvert_exporter": "python",
   "pygments_lexer": "ipython3",
   "version": "3.9.12"
  }
 },
 "nbformat": 4,
 "nbformat_minor": 5
}
