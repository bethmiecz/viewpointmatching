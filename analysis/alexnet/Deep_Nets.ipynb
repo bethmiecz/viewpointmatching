{
 "cells": [
  {
   "cell_type": "code",
   "execution_count": 99,
   "id": "107148c2",
   "metadata": {},
   "outputs": [],
   "source": [
    "from torchvision import models, transforms\n",
    "import torch\n",
    "import numpy as np\n",
    "from PIL import Image\n",
    "import os"
   ]
  },
  {
   "cell_type": "code",
   "execution_count": 100,
   "id": "71c36042",
   "metadata": {},
   "outputs": [],
   "source": [
    "model = models.alexnet(pretrained = True)\n",
    "# print(model)"
   ]
  },
  {
   "cell_type": "code",
   "execution_count": 101,
   "id": "30bb5794",
   "metadata": {},
   "outputs": [],
   "source": [
    "input_size = 224\n",
    "preprocess = transforms.Compose(\n",
    "    [\n",
    "        transforms.ToPILImage(),\n",
    "        transforms.Resize([input_size]),\n",
    "        transforms.ToTensor(),\n",
    "        transforms.Normalize([0.485, 0.456, 0.406], [0.229, 0.224, 0.225]),\n",
    "    ]\n",
    ")"
   ]
  },
  {
   "cell_type": "code",
   "execution_count": 102,
   "id": "537f2ec5",
   "metadata": {},
   "outputs": [],
   "source": [
    "activation = {}\n",
    "def get_activ(name):\n",
    "    def hook(model, input, output):\n",
    "        activation[name] = output.detach()\n",
    "\n",
    "    return hook\n",
    "\n",
    "\n",
    "def layer_activation(model, layer_fun, layer_str, input, text=None):\n",
    "    layer_fun.register_forward_hook(get_activ(layer_str))\n",
    "    model.eval()\n",
    "    output = model(input)\n",
    "    return activation[layer_str]"
   ]
  },
  {
   "cell_type": "code",
   "execution_count": 120,
   "id": "0cae1991",
   "metadata": {},
   "outputs": [],
   "source": [
    "def read_image(image_path, preprocess):\n",
    "\n",
    "    Images = np.array(Image.open(image_path).convert(\"RGB\"))\n",
    "    \n",
    "    return preprocess(Images).unsqueeze(axis = 0)"
   ]
  },
  {
   "cell_type": "code",
   "execution_count": 115,
   "id": "39eae2e0",
   "metadata": {},
   "outputs": [],
   "source": [
    "layers = [\n",
    "    model.features[2],\n",
    "    model.features[5],\n",
    "    model.features[12],\n",
    "    model.classifier[1],\n",
    "    model.classifier[4],\n",
    "    model.classifier[6],\n",
    "]\n",
    "layers_name = [str(i) for i in np.arange(len(layers))]"
   ]
  },
  {
   "cell_type": "code",
   "execution_count": 116,
   "id": "402f68aa",
   "metadata": {},
   "outputs": [],
   "source": [
    "image_path = './trialscenes/trialscenes'\n",
    "triplets = os.listdir(image_path)\n",
    "\n",
    "one_triplet = os.path.join(image_path, triplets[2])\n",
    "configs = os.listdir(one_triplet)\n",
    "\n",
    "one_config = os.path.join(image_path, triplets[2], configs[0])\n",
    "images = os.listdir(one_config)\n",
    "\n",
    "one_image = os.path.join(image_path, triplets[2], configs[0], images[0])"
   ]
  },
  {
   "cell_type": "code",
   "execution_count": 117,
   "id": "4ac0f6cc",
   "metadata": {},
   "outputs": [],
   "source": [
    "Images = read_image(one_image, preprocess)"
   ]
  },
  {
   "cell_type": "code",
   "execution_count": 118,
   "id": "210685dc",
   "metadata": {},
   "outputs": [],
   "source": [
    "cnn_data = []\n",
    "for layer, layer_name in zip(layers, layers_name):\n",
    "    activs = (\n",
    "        layer_activation(model, layer, layer_name, Images.float())\n",
    "        .cpu()\n",
    "        .detach()\n",
    "        .numpy()\n",
    "    )\n",
    "    # Activations are flattened to retun a n*m matrix where n is the number of images and m is the overall number of features.\n",
    "    flatten_activs = np.array([activ.flatten() for activ in activs])\n",
    "    cnn_data.append(flatten_activs)"
   ]
  },
  {
   "cell_type": "code",
   "execution_count": 119,
   "id": "f6491c2f",
   "metadata": {},
   "outputs": [
    {
     "data": {
      "text/plain": [
       "(1, 62208)"
      ]
     },
     "execution_count": 119,
     "metadata": {},
     "output_type": "execute_result"
    }
   ],
   "source": [
    "cnn_data[0].shape"
   ]
  },
  {
   "cell_type": "code",
   "execution_count": null,
   "id": "30d3a51f",
   "metadata": {},
   "outputs": [],
   "source": []
  }
 ],
 "metadata": {
  "kernelspec": {
   "display_name": "Python 3 (ipykernel)",
   "language": "python",
   "name": "python3"
  },
  "language_info": {
   "codemirror_mode": {
    "name": "ipython",
    "version": 3
   },
   "file_extension": ".py",
   "mimetype": "text/x-python",
   "name": "python",
   "nbconvert_exporter": "python",
   "pygments_lexer": "ipython3",
   "version": "3.9.12"
  }
 },
 "nbformat": 4,
 "nbformat_minor": 5
}
