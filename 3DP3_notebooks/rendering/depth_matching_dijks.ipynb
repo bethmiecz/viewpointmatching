{
 "cells": [
  {
   "cell_type": "code",
   "execution_count": 4,
   "id": "b4b8c7b9",
   "metadata": {},
   "outputs": [],
   "source": [
    "import GLRenderer as GL"
   ]
  },
  {
   "cell_type": "code",
   "execution_count": 5,
   "id": "1f0b2136",
   "metadata": {},
   "outputs": [
    {
     "name": "stdout",
     "output_type": "stream",
     "text": [
      "gl_version_for_shaders = \"410\"\n",
      "true\n"
     ]
    },
    {
     "data": {
      "text/plain": [
       "GLRenderer.Renderer{GLRenderer.DepthMode}(GLFW.Window(Ptr{Nothing} @0x0000000009542580), GLRenderer.CameraIntrinsics\n",
       "  width: Int64 640\n",
       "  height: Int64 480\n",
       "  fx: Float64 640.0\n",
       "  fy: Float64 640.0\n",
       "  cx: Float64 320.0\n",
       "  cy: Float64 240.0\n",
       "  near: Float64 0.001\n",
       "  far: Float64 100.0\n",
       ", 0x00000003, Dict{Any, Any}(), Dict{Any, Any}(), Dict{Any, Any}(), Float32[2.0 0.0 0.0 0.0; 0.0 2.6666667 0.0 0.0; 0.0 0.0 -1.00002 -0.0020000201; 0.0 0.0 -1.0 0.0], 1)"
      ]
     },
     "execution_count": 5,
     "metadata": {},
     "output_type": "execute_result"
    }
   ],
   "source": [
    "renderer = GL.setup_renderer(GL.CameraIntrinsics(), GL.DepthMode(), gl_version=(4,1))"
   ]
  },
  {
   "cell_type": "code",
   "execution_count": 6,
   "id": "0b9cdde2",
   "metadata": {},
   "outputs": [
    {
     "name": "stderr",
     "output_type": "stream",
     "text": [
      "┌ Info: MeshCat server started. You can open the visualizer by visiting the following URL in your browser:\n",
      "│ http://127.0.0.1:8700\n",
      "└ @ MeshCat /home/aryan/.julia/packages/MeshCat/oC0sL/src/visualizer.jl:73\n",
      "Gtk-Message: 10:48:44.368: Not loading module \"atk-bridge\": The functionality is provided by GTK natively. Please try to not load it.\n"
     ]
    }
   ],
   "source": [
    "import Revise\n",
    "import GLRenderer as GL\n",
    "import Images as I\n",
    "import MiniGSG as S\n",
    "import Rotations as R\n",
    "import PoseComposition: Pose, IDENTITY_POSE, IDENTITY_ORN\n",
    "import InverseGraphics as T\n",
    "import NearestNeighbors\n",
    "import LightGraphs as LG\n",
    "import Gen\n",
    "import Random\n",
    "try\n",
    "    import MeshCatViz as V\n",
    "catch\n",
    "    import MeshCatViz as V    \n",
    "end\n",
    "V.setup_visualizer()\n",
    "import ImageView as IV\n",
    "import JSON\n",
    "import Statistics"
   ]
  },
  {
   "cell_type": "code",
   "execution_count": 7,
   "id": "8656078a",
   "metadata": {},
   "outputs": [
    {
     "name": "stdout",
     "output_type": "stream",
     "text": [
      "gl_version_for_shaders = \"330\"\n",
      "true\n"
     ]
    },
    {
     "data": {
      "text/plain": [
       "place_objects (generic function with 1 method)"
      ]
     },
     "execution_count": 7,
     "metadata": {},
     "output_type": "execute_result"
    }
   ],
   "source": [
    "YCB_DIR = joinpath(dirname(dirname(pathof(T))),\"data\")\n",
    "world_scaling_factor = 10.0\n",
    "id_to_cloud, id_to_shift, id_to_box  = T.load_ycbv_models_adjusted(YCB_DIR, world_scaling_factor);\n",
    "all_ids = sort(collect(keys(id_to_cloud)));\n",
    "names = T.load_ycb_model_list(YCB_DIR)\n",
    "\n",
    "camera = GL.CameraIntrinsics()\n",
    "renderer = GL.setup_renderer(camera, GL.DepthMode(); gl_version=(3,3))\n",
    "obj_paths = T.load_ycb_model_obj_file_paths(YCB_DIR)\n",
    "for id in all_ids\n",
    "    mesh = GL.get_mesh_data_from_obj_file(obj_paths[id])\n",
    "    mesh = T.scale_and_shift_mesh(mesh, world_scaling_factor, id_to_shift[id])\n",
    "    GL.load_object!(renderer, mesh)\n",
    "end\n",
    "\n",
    "function place_objects(config, all_obj_ids, rot)\n",
    "    if rot == 0\n",
    "        rotation = [0.7,1.05,0.87,0.5,0.95,0.18,0.2,0.16,0.42,0.15,1.2,1.24,0.27,0.4,0.28,1.03,0.6,0.1,0.2,0.15,0.26, 10.0]\n",
    "    elseif rot == pi/2\n",
    "        rotation = [0.5,0.82,0.47,0.33,0.34,0.43,0.63,0.5,0.29,0.9,0.7,0.34,0.8,0.45,0.92,0.5,1.0,0.6,0.85,0.83,0.4, 10.0]\n",
    "    end\n",
    "    \n",
    "    zvals = []\n",
    "    for z in 1:3\n",
    "        append!(zvals,rotation[all_obj_ids[z]])\n",
    "    end\n",
    "    \n",
    "    if config == \"line\"\n",
    "        xvals = [1.5,0.0,-2.5]\n",
    "        yvals = [0.0,0.0,0.0]\n",
    "    elseif config == \"nonequtriangle\"\n",
    "        xvals = [-1.5,1.5,1.5]\n",
    "        yvals = [1.0,-1.5,1.5]\n",
    "    elseif config == \"random\"\n",
    "        xvals = [0.5,0.0,-1.0]\n",
    "        yvals = [1.75,-1.75,0.75]\n",
    "    end\n",
    "    \n",
    "    all_object_poses = [\n",
    "        Pose([xvals[1], yvals[1], zvals[1]],R.RotX(rot)),\n",
    "        Pose([xvals[2], yvals[2], zvals[2]],R.RotX(rot)),\n",
    "        Pose([xvals[3], yvals[3], zvals[3]],R.RotX(rot))\n",
    "        ]\n",
    "    all_clouds = hcat([\n",
    "        GL.move_points_to_frame_b(id_to_cloud[obj_id], pose)\n",
    "        for (obj_id, pose) in zip(all_obj_ids, all_object_poses)\n",
    "    ]...)\n",
    "    V.reset_visualizer()\n",
    "    V.viz(all_clouds ./ 10.0)\n",
    "    return all_object_poses\n",
    "    end"
   ]
  },
  {
   "cell_type": "code",
   "execution_count": 8,
   "id": "71bda44a",
   "metadata": {},
   "outputs": [
    {
     "data": {
      "text/plain": [
       "9-element Vector{Pose}:\n",
       " Pose⟨pos=[0.0, 6.5, 6.5], orientation=(w=5.657130561438503e-17, x=-2.343260202663149e-17, y=0.9238795325112867, z=-0.3826834323650898)⟩\n",
       " Pose⟨pos=[4.596194077712559, 4.59619407771256, 6.5], orientation=(w=0.1464466094067261, x=-0.3535533905932737, y=-0.8535533905932737, z=0.3535533905932737)⟩\n",
       " Pose⟨pos=[6.5, 3.9801020972288977e-16, 6.5], orientation=(w=0.27059805007309845, x=-0.6532814824381883, y=-0.6532814824381884, z=0.2705980500730985)⟩\n",
       " Pose⟨pos=[4.59619407771256, -4.596194077712559, 6.5], orientation=(w=0.3535533905932737, x=-0.8535533905932737, y=-0.3535533905932739, z=0.1464466094067263)⟩\n",
       " Pose⟨pos=[7.960204194457795e-16, -6.5, 6.5], orientation=(w=0.3826834323650898, x=-0.9238795325112867, y=-8.000390764101652e-17, z=8.000390764101652e-17)⟩\n",
       " Pose⟨pos=[-4.596194077712559, -4.59619407771256, 6.5], orientation=(w=0.35355339059327373, x=-0.8535533905932737, y=0.3535533905932737, z=-0.1464466094067261)⟩\n",
       " Pose⟨pos=[-6.5, -1.1940306291686693e-15, 6.5], orientation=(w=0.27059805007309856, x=-0.6532814824381884, y=0.6532814824381883, z=-0.27059805007309845)⟩\n",
       " Pose⟨pos=[-4.59619407771256, 4.596194077712558, 6.5], orientation=(w=0.14644660940672638, x=-0.35355339059327395, y=0.8535533905932737, z=-0.35355339059327373)⟩\n",
       " Pose⟨pos=[-1.592040838891559e-15, 6.5, 6.5], orientation=(w=1.03436509667648e-16, x=-1.3657521325540153e-16, y=0.9238795325112867, z=-0.3826834323650898)⟩"
      ]
     },
     "execution_count": 8,
     "metadata": {},
     "output_type": "execute_result"
    }
   ],
   "source": [
    "# all objects we are using in this experiment\n",
    "allobjs = [2,4,5,7,10,11,12,13,14,18]\n",
    "\n",
    "radius = 6.5\n",
    "z = 6.5\n",
    "inferred_poses = [\n",
    "    Pose([sin(ang)*radius, cos(ang)*radius, z], R.RotZ(-ang)*R.RotX(-atan(radius / z))*R.RotY(pi))\n",
    "    for ang in 0.0:pi/4:2*pi\n",
    "]"
   ]
  },
  {
   "cell_type": "code",
   "execution_count": 9,
   "id": "448b7164",
   "metadata": {},
   "outputs": [
    {
     "data": {
      "text/plain": [
       "getAllModelMatches (generic function with 1 method)"
      ]
     },
     "execution_count": 9,
     "metadata": {},
     "output_type": "execute_result"
    }
   ],
   "source": [
    "# allvox = size of ALL_VOXELS\n",
    "# occupied, occluded, free\n",
    "function getJSON(filename)\n",
    "    open(filename,\"r\") do f\n",
    "        return JSON.parse(f)\n",
    "    end\n",
    "end\n",
    "\n",
    "function extractImgFromJSON(filename)\n",
    "    str = split(filename, '/')\n",
    "    trip = split(str[3], '_')\n",
    "    trip = [parse(Int, ss) for ss in trip]\n",
    "    config = str[4]\n",
    "    view = split(str[5], '.')[1]\n",
    "    view = [parse(Int, ss) for ss in view]\n",
    "    return trip,config,view\n",
    "end\n",
    "\n",
    "# function getConsistency(viewpoint1, viewpoint2, epsilon)  \n",
    "#     vox_likelihoods = zeros(length(viewpoint1[1]))\n",
    "#     avg = 0\n",
    "#     for i in 1:length(viewpoint1[1])\n",
    "#         if ((viewpoint1[1][i] == 1 && viewpoint2[1][i] == 1) || (viewpoint1[3][i] == 1 && viewpoint2[3][i] == 1))\n",
    "#             vox_likelihoods[i] = 1 - epsilon\n",
    "#             avg += 1 - epsilon\n",
    "#         elseif ((viewpoint1[1][i] == 1 && viewpoint2[3][i] == 1) ||\n",
    "#             (viewpoint1[3][i] == 1 && viewpoint2[1][i] == 1))\n",
    "#             vox_likelihoods[i] = epsilon\n",
    "#             avg += epsilon\n",
    "#         elseif (viewpoint1[2][i] == 1 && viewpoint2[2][i] == 1)\n",
    "#             vox_likelihoods[i] = 0.25\n",
    "#             avg += 0.25\n",
    "#         else\n",
    "#             vox_likelihoods[i] = 0.5\n",
    "#             avg += 0.5\n",
    "#         end\n",
    "#     end\n",
    "#     return vox_likelihoods,(avg/length(viewpoint1[1]))\n",
    "# end\n",
    "\n",
    "\n",
    "function getConsistency(viewpoint1, viewpoint2, epsilon)  \n",
    "    vox_likelihoods = zeros(length(viewpoint1[1]))\n",
    "    TP = 0\n",
    "    TN = 0\n",
    "    FP = 0\n",
    "    FN = 0\n",
    "    for i in 1:length(viewpoint1[1])\n",
    "        if (viewpoint1[1][i] == 1 && viewpoint2[1][i] == 1) \n",
    "            TP += 1\n",
    "        elseif (viewpoint1[3][i] == 1 && viewpoint2[3][i] == 1)\n",
    "            TN += 1\n",
    "        elseif (viewpoint1[1][i] == 1 && viewpoint2[3][i] == 1)\n",
    "            FN += 1\n",
    "        elseif (viewpoint2[1][i] == 1 && viewpoint1[3][i] == 1)\n",
    "            FP += 1\n",
    "        elseif (viewpoint1[2][i] == 1 && viewpoint2[1][i] == 1) || (viewpoint2[2][i] == 1 && viewpoint1[1][i] == 1)\n",
    "            TP += 0.5\n",
    "            FP += 0.5\n",
    "        elseif (viewpoint1[2][i] == 1 && viewpoint2[3][i] == 1) || (viewpoint2[2][i] == 1 && viewpoint1[3][i] == 1)\n",
    "            TN += 0.5\n",
    "            FN += 0.5\n",
    "        else\n",
    "            TP += 0.25\n",
    "            TN += 0.25\n",
    "            FP += 0.25\n",
    "            FN += 0.25\n",
    "        end\n",
    "    end\n",
    "    consistancy_score = 2* TP / (2*TP + FP + FN)\n",
    "    return consistancy_score\n",
    "end\n",
    "\n",
    "function getAllVoxels(config,objs,RESOLUTION)\n",
    "    poses = place_objects(config, objs, 0)\n",
    "    depth_images = [GL.gl_render(renderer, objs, poses, cam_pose) for cam_pose in inferred_poses];\n",
    "    clouds = [GL.depth_image_to_point_cloud(d, camera) for d in depth_images];\n",
    "    pose_adjusted_cloud = hcat([T.move_points_to_frame_b(c,p) for (c,p) in zip(clouds, inferred_poses)]...);\n",
    "    V.viz(pose_adjusted_cloud ./ 10.0)\n",
    "    mins,maxs = T.min_max(pose_adjusted_cloud)\n",
    "    mins,maxs = floor.(Int,mins ./ RESOLUTION) * RESOLUTION , ceil.(Int, maxs ./RESOLUTION) * RESOLUTION\n",
    "    mins .-= RESOLUTION * 5\n",
    "    maxs .+= RESOLUTION * 5\n",
    "    dimensions = [length(collect(mins[1]:RESOLUTION:maxs[1])),\n",
    "              length(collect(mins[2]:RESOLUTION:maxs[2])),\n",
    "              length(collect(mins[3]:RESOLUTION:maxs[3]))]\n",
    "    ALL_VOXELS = hcat([[a,b,c] for a in collect(mins[1]:RESOLUTION:maxs[1])\n",
    "                           for b in collect(mins[2]:RESOLUTION:maxs[2])\n",
    "                           for c in collect(mins[3]:RESOLUTION:maxs[3])]...);\n",
    "    return ALL_VOXELS\n",
    "end\n",
    "\n",
    "function setAllVoxels(trip1,trip2,trip3,config1,config2,config3)\n",
    "    ALL_VOXELS1 = getAllVoxels(config1,trip1,RESOLUTION)\n",
    "    ALL_VOXELS2 = getAllVoxels(config2,trip2,RESOLUTION)\n",
    "    ALL_VOXELS3 = getAllVoxels(config3,trip3,RESOLUTION)\n",
    "    if (length(ALL_VOXELS1[2]) > length(ALL_VOXELS2[2])) && (length(ALL_VOXELS1[2]) > length(ALL_VOXELS3[2]))\n",
    "        return ALL_VOXELS1\n",
    "    elseif (length(ALL_VOXELS2[2]) > length(ALL_VOXELS1[2])) && (length(ALL_VOXELS2[2]) > length(ALL_VOXELS3[2]))\n",
    "        return ALL_VOXELS2\n",
    "    else\n",
    "        return ALL_VOXELS3\n",
    "    end\n",
    "end\n",
    "\n",
    "function getVpt(trip,config,view,ALL_VOXELS,RESOLUTION)  \n",
    "    cam_pose = inferred_poses[view][1] \n",
    "    poses = place_objects(config, trip, 0)\n",
    "    depth_image = GL.gl_render(renderer, trip, poses, cam_pose)\n",
    "    vpt = T.get_occ_ocl_free(T.get_points_in_frame_b(ALL_VOXELS, cam_pose), camera, depth_image, 2*RESOLUTION)\n",
    "    return vpt\n",
    "end\n",
    "\n",
    "function getAllModelMatches(trialfilename,RESOLUTION)\n",
    "    matches = Dict()\n",
    "    responses = Dict()\n",
    "    trials = getJSON(trialfilename)\n",
    "    for trial in trials\n",
    "        s = trial[\"img_sample\"]\n",
    "        l = trial[\"img_lure\"]\n",
    "        t = trial[\"img_target\"]\n",
    "        ltype = trial[\"lure_type\"]\n",
    "        id = trial[\"trialid\"]\n",
    "        \n",
    "        s_trip,s_config,s_view = extractImgFromJSON(s)\n",
    "        l_trip,l_config,l_view = extractImgFromJSON(l)\n",
    "        t_trip,t_config,t_view = extractImgFromJSON(t)\n",
    "            \n",
    "        ALL_VOXELS = setAllVoxels(s_trip,l_trip,t_trip,s_config,l_config,t_config)\n",
    "    \n",
    "        s_vpt = getVpt(s_trip,s_config,s_view,ALL_VOXELS,RESOLUTION)\n",
    "        l_vpt = getVpt(l_trip,l_config,l_view,ALL_VOXELS,RESOLUTION)\n",
    "        t_vpt = getVpt(t_trip,t_config,t_view,ALL_VOXELS,RESOLUTION)\n",
    "    \n",
    "        sl_score = getConsistency(s_vpt, l_vpt, 0.001)\n",
    "        st_score = getConsistency(s_vpt, t_vpt, 0.001)\n",
    "        \n",
    "        if st_score > sl_score\n",
    "            responses[id] = 1\n",
    "        else\n",
    "            responses[id] = 0\n",
    "        end\n",
    "    end\n",
    "    return responses\n",
    "end"
   ]
  },
  {
   "cell_type": "code",
   "execution_count": 14,
   "id": "f9bac3cb",
   "metadata": {},
   "outputs": [
    {
     "data": {
      "text/plain": [
       "Dict{Any, Any} with 120 entries:\n",
       "  \"32\"  => 1\n",
       "  \"29\"  => 1\n",
       "  \"1\"   => 1\n",
       "  \"54\"  => 1\n",
       "  \"78\"  => 1\n",
       "  \"81\"  => 1\n",
       "  \"101\" => 1\n",
       "  \"2\"   => 1\n",
       "  \"105\" => 1\n",
       "  \"109\" => 1\n",
       "  \"74\"  => 1\n",
       "  \"41\"  => 1\n",
       "  \"65\"  => 1\n",
       "  \"51\"  => 1\n",
       "  \"53\"  => 1\n",
       "  \"106\" => 1\n",
       "  \"119\" => 1\n",
       "  \"27\"  => 1\n",
       "  \"75\"  => 1\n",
       "  \"42\"  => 1\n",
       "  \"33\"  => 1\n",
       "  \"28\"  => 1\n",
       "  \"50\"  => 1\n",
       "  \"52\"  => 1\n",
       "  \"111\" => 1\n",
       "  ⋮     => ⋮"
      ]
     },
     "execution_count": 14,
     "metadata": {},
     "output_type": "execute_result"
    }
   ],
   "source": [
    "RESOLUTION = 0.07\n",
    "modelresponses = getAllModelMatches(\"3dp3behavior.json\",RESOLUTION)"
   ]
  },
  {
   "cell_type": "code",
   "execution_count": 15,
   "id": "feabbdb6",
   "metadata": {},
   "outputs": [
    {
     "data": {
      "text/plain": [
       "Dict{Any, Any} with 120 entries:\n",
       "  \"32\"  => 1\n",
       "  \"29\"  => 1\n",
       "  \"1\"   => 1\n",
       "  \"54\"  => 1\n",
       "  \"78\"  => 1\n",
       "  \"81\"  => 1\n",
       "  \"101\" => 1\n",
       "  \"2\"   => 1\n",
       "  \"105\" => 1\n",
       "  \"109\" => 1\n",
       "  \"74\"  => 1\n",
       "  \"41\"  => 1\n",
       "  \"65\"  => 1\n",
       "  \"51\"  => 1\n",
       "  \"53\"  => 1\n",
       "  \"106\" => 1\n",
       "  \"119\" => 1\n",
       "  \"27\"  => 1\n",
       "  \"75\"  => 1\n",
       "  \"42\"  => 1\n",
       "  \"33\"  => 1\n",
       "  \"28\"  => 1\n",
       "  \"50\"  => 1\n",
       "  \"52\"  => 1\n",
       "  \"111\" => 1\n",
       "  ⋮     => ⋮"
      ]
     },
     "execution_count": 15,
     "metadata": {},
     "output_type": "execute_result"
    }
   ],
   "source": [
    "modelresponses"
   ]
  },
  {
   "cell_type": "code",
   "execution_count": 16,
   "id": "9b1ec49f",
   "metadata": {},
   "outputs": [],
   "source": [
    "open(\"modelresponses_NEW_Dice.json\",\"w\") do f\n",
    "    JSON.print(f, [modelresponses])\n",
    "end"
   ]
  },
  {
   "cell_type": "code",
   "execution_count": 105,
   "id": "ecf6690f",
   "metadata": {},
   "outputs": [],
   "source": [
    "open(\"modelmatches.json\",\"w\") do f\n",
    "    JSON.print(f, [modelmatches])\n",
    "end"
   ]
  },
  {
   "cell_type": "code",
   "execution_count": 106,
   "id": "8fb318ad",
   "metadata": {},
   "outputs": [
    {
     "name": "stdout",
     "output_type": "stream",
     "text": [
      "120"
     ]
    }
   ],
   "source": [
    "check = getJSON(\"modelmatches.json\")\n",
    "print(length(check[1]))"
   ]
  },
  {
   "cell_type": "code",
   "execution_count": null,
   "id": "193bc348",
   "metadata": {},
   "outputs": [],
   "source": []
  }
 ],
 "metadata": {
  "kernelspec": {
   "display_name": "Julia 1.8.1",
   "language": "julia",
   "name": "julia-1.8"
  },
  "language_info": {
   "file_extension": ".jl",
   "mimetype": "application/julia",
   "name": "julia",
   "version": "1.8.1"
  }
 },
 "nbformat": 4,
 "nbformat_minor": 5
}
